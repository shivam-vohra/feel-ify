{
  "nbformat": 4,
  "nbformat_minor": 0,
  "metadata": {
    "colab": {
      "provenance": []
    },
    "kernelspec": {
      "name": "python3",
      "display_name": "Python 3"
    },
    "language_info": {
      "name": "python"
    }
  },
  "cells": [
    {
      "cell_type": "markdown",
      "source": [
        "# Feelify Song Lyric Downloading\n",
        "Author: Nathan Hunsberger\n",
        "\n",
        "I'm just trying to use Genius API to download song lyrics for all the songs in MuSe"
      ],
      "metadata": {
        "id": "ZpVoM-NY3-L-"
      }
    },
    {
      "cell_type": "code",
      "source": [
        "import pandas as pd\n",
        "import re\n",
        "import string\n",
        "import requests\n",
        "from tqdm import tqdm\n",
        "tqdm.pandas()"
      ],
      "metadata": {
        "id": "KZvwp7Mgowrh"
      },
      "execution_count": 1,
      "outputs": []
    },
    {
      "cell_type": "code",
      "source": [
        "from google.colab import drive\n",
        "drive.mount('/content/drive')"
      ],
      "metadata": {
        "colab": {
          "base_uri": "https://localhost:8080/"
        },
        "id": "1REgbFC9Dkhm",
        "outputId": "ab58b45e-cf46-4cfb-b60d-1c89daed06b6"
      },
      "execution_count": 2,
      "outputs": [
        {
          "output_type": "stream",
          "name": "stdout",
          "text": [
            "Mounted at /content/drive\n"
          ]
        }
      ]
    },
    {
      "cell_type": "code",
      "source": [
        "ERROR_FETCHING_LYRICS = \"Error fetching lyrics\"\n",
        "\n",
        "def fix_name(name):\n",
        "    index_of_feat = name.find(\"feat.\")\n",
        "    if index_of_feat > 0:\n",
        "      name = name[:index_of_feat-1]\n",
        "      name = name.strip()\n",
        "    pattern = r'[{}]'.format(re.escape(string.punctuation))\n",
        "\n",
        "    name = name.replace(\"&\", \"and\")\n",
        "    name = name.replace(\"-\", \" \")\n",
        "    name = name.replace(\"/\", \" \")\n",
        "    name = name.replace(\"ü\", \"u\")\n",
        "    name = name.replace(\"í\", \"i\")\n",
        "    name = name.replace(\"’\", \"\")\n",
        "    name = name.replace(\"ø\", \"o\")\n",
        "    name = name.replace(\"$\", \"\")\n",
        "    name = name.replace(\"ő\", \"o\")\n",
        "    name = re.sub(pattern, '', name)\n",
        "    name = name.replace(' ','-')\n",
        "\n",
        "    return name\n",
        "\n",
        "\n",
        "# Thank u to whoever tf unlocked the Genius API over at weeb-api.vercel.app\n",
        "def get_lyrics(artistname, songname):\n",
        "    global ERROR_FETCHING_LYRICS\n",
        "    artistname = str(artistname)\n",
        "    songname = str(songname)\n",
        "    artistname2 = fix_name(artistname)\n",
        "    songname2 = fix_name(songname)\n",
        "    url_genius = 'https://genius.com/'+ artistname2 + '-' + songname2 + '-' + 'lyrics'\n",
        "    url = f\"https://weeb-api.vercel.app/lyrics?url={url_genius}\"\n",
        "    #url = f\"https://api.lyrics.ovh/v1/{artistname2}/{songname2}\"\n",
        "    # print(url_genius)\n",
        "    try:\n",
        "      response = requests.get(url)\n",
        "      if response.status_code == 200:\n",
        "          data = response.json()\n",
        "          cleaned_data = re.sub(r'\\[(.|\\n)*?\\]', '', data, flags=re.MULTILINE)\n",
        "          return cleaned_data\n",
        "      else:\n",
        "          return ERROR_FETCHING_LYRICS\n",
        "    except Exception as e:\n",
        "      return ERROR_FETCHING_LYRICS\n",
        "\n",
        "# Test to make sure API is working :)\n",
        "print(get_lyrics(\"$UICIDEBOY$\", \"You’re Now Tuning in to 66.6 FM with DJ Rapture (The Hottest Hour of the Evening)\"))\n"
      ],
      "metadata": {
        "colab": {
          "base_uri": "https://localhost:8080/"
        },
        "id": "umUKCVziozAv",
        "outputId": "01ff9301-4719-44ee-8503-dee37d0b5074"
      },
      "execution_count": 7,
      "outputs": [
        {
          "output_type": "stream",
          "name": "stdout",
          "text": [
            "\n",
            "Sink back in that fucking spine, second-guessing crime\n",
            "\n",
            "7th Ward where I snort a slug and cross the fucking line\n",
            "\n",
            "West Bank/Northside 'till the coffin ride\n",
            "\n",
            "Who am I? I am God; I am Basquiat\n",
            "\n",
            "\n",
            "\n",
            "Trap-a-holics mixtapes\n",
            "\n",
            "Man\n",
            "\n",
            ", drop this shit for these fuck niggas\n",
            "\n",
            "\n",
            "\n",
            "Grey*59 signed\n",
            "\n",
            "Rough diamonds\n",
            "\n",
            ", tryna shine\n",
            "Christ and I, $ui-$uicide\n",
            "\n",
            "You know, you know, you know I'm\n",
            "Diving head first when crucified\n",
            "\n",
            "Lucifer cried when I told him I'm choosing to die\n",
            "Noose and a knife, but I ain't use the knife\n",
            "To loosen the noose, keep it tight\n",
            "Abusing the truth, that's a lie\n",
            "Fuckboy with a ski mask think he gon' rob me blind?\n",
            "Fuckboy better think fast when he cock the nine\n",
            "Fuckboy better—\n",
            "Fuckboy better, sink back in that fucking spine, second-guessin' crime\n",
            "\n",
            "7th Ward where I snort a slug and cross the fucking line\n",
            "\n",
            "Yet another line inside the cup\n",
            "\n",
            ", \n",
            "\n",
            "another line you should look up\n",
            "\n",
            "Another line that shook you up, I signed the line for Lucifer\n",
            "\n",
            "Damn son, where'd you find this?\n",
            "\n",
            "Real trap shit!\n",
            "\n",
            "\n",
            "\n",
            "*59 'till I'm dead, ayy, yuh\n",
            "Bitch, I'm grey 'till the death, yeah, uh\n",
            "\n",
            "Never gave a fuck 'bout dyin', no, uh\n",
            "Even when I was a jit, woe\n",
            "\n",
            "Pop a jig, load the rig with that motherfucking China white\n",
            "Fuck it if I die tonight, I'm gamblin' with my fucking life\n",
            "\n",
            "West Bank, Northside 'til the coffin ride\n",
            "\n",
            "Who am I? I am God; I am Basquiat\n",
            "\n",
            "Yung Kurt Cobain with the scarred veins\n",
            "\n",
            "Mentally deranged, hear the crows say my name (\"$carecrow!\")\n",
            "I'm just wastin' my time, I'm just wastin' my breath\n",
            "Why can't I just die? Why can't I go next?\n",
            "Why we get no respect? \n",
            "\n",
            "Why I love holdin' TEC's\n",
            "\n",
            "?\n",
            "Xanax bar on my neck, I pop 'em, pop 'em 'til death\n",
            "\n",
            "This ain't no motherfuckin' trend\n",
            "\n",
            ", every day feel like the end\n",
            "\n",
            "Feed me, feed me medicine, so I can't feel my sins\n"
          ]
        }
      ]
    },
    {
      "cell_type": "code",
      "source": [
        "muse_df = pd.read_csv('drive/My Drive/CS 3892/muse_v3_lyrics_90000.csv')"
      ],
      "metadata": {
        "id": "kPg9ZUL2gZh-"
      },
      "execution_count": 5,
      "outputs": []
    },
    {
      "cell_type": "code",
      "source": [
        "muse_df.tail()"
      ],
      "metadata": {
        "colab": {
          "base_uri": "https://localhost:8080/",
          "height": 379
        },
        "id": "Op2ANJgY_4EV",
        "outputId": "8800a895-9c07-41fc-8039-032272dd6313"
      },
      "execution_count": 11,
      "outputs": [
        {
          "output_type": "execute_result",
          "data": {
            "text/plain": [
              "                                              lastfm_url  \\\n",
              "89996  https://www.last.fm/music/gaby%2bhoffmann%2b%2...   \n",
              "89997  https://www.last.fm/music/omar%2brodriguez-lop...   \n",
              "89998  https://www.last.fm/music/ace%2bwhite/_/crookf...   \n",
              "89999  https://www.last.fm/music/second%2bchyld/_/tra...   \n",
              "90000  https://www.last.fm/music/message%2bto%2bbears...   \n",
              "\n",
              "                                         track                       artist  \\\n",
              "89996                                   Battle  Gaby Hoffmann & Jay Duplass   \n",
              "89997  Hands Tied to the Roots of a Hemorrhage         Omar Rodriguez-Lopez   \n",
              "89998                           Crookfield Zoo                    Ace White   \n",
              "89999               Transparent (Full Version)                 Second Chyld   \n",
              "90000                                   Unfold             Message To Bears   \n",
              "\n",
              "                 seeds  number_of_emotion_tags  valence_tags  arousal_tags  \\\n",
              "89996  ['transparent']                       1      5.370000      3.450000   \n",
              "89997  ['transparent']                       4      5.797887      4.132254   \n",
              "89998  ['transparent']                       1      5.370000      3.450000   \n",
              "89999  ['transparent']                       1      5.370000      3.450000   \n",
              "90000  ['translucent']                       2      3.340000      1.405000   \n",
              "\n",
              "       dominance_tags                                  mbid  \\\n",
              "89996        5.330000                                   NaN   \n",
              "89997        5.570563                                   NaN   \n",
              "89998        5.330000                                   NaN   \n",
              "89999        5.330000                                   NaN   \n",
              "90000        3.500000  247179b0-af1f-4c2b-b4fe-751070d1c0cc   \n",
              "\n",
              "                   spotify_id             genre                 lyrics  \n",
              "89996                     NaN               NaN  Error fetching lyrics  \n",
              "89997                     NaN  progressive rock  Error fetching lyrics  \n",
              "89998                     NaN               NaN  Error fetching lyrics  \n",
              "89999                     NaN               NaN  Error fetching lyrics  \n",
              "90000  14BYEOeRb3jzglJmKX8eM2           ambient  Error fetching lyrics  "
            ],
            "text/html": [
              "\n",
              "  <div id=\"df-e5968b0a-a8b5-4a50-b866-8efdcc6d0cc7\" class=\"colab-df-container\">\n",
              "    <div>\n",
              "<style scoped>\n",
              "    .dataframe tbody tr th:only-of-type {\n",
              "        vertical-align: middle;\n",
              "    }\n",
              "\n",
              "    .dataframe tbody tr th {\n",
              "        vertical-align: top;\n",
              "    }\n",
              "\n",
              "    .dataframe thead th {\n",
              "        text-align: right;\n",
              "    }\n",
              "</style>\n",
              "<table border=\"1\" class=\"dataframe\">\n",
              "  <thead>\n",
              "    <tr style=\"text-align: right;\">\n",
              "      <th></th>\n",
              "      <th>lastfm_url</th>\n",
              "      <th>track</th>\n",
              "      <th>artist</th>\n",
              "      <th>seeds</th>\n",
              "      <th>number_of_emotion_tags</th>\n",
              "      <th>valence_tags</th>\n",
              "      <th>arousal_tags</th>\n",
              "      <th>dominance_tags</th>\n",
              "      <th>mbid</th>\n",
              "      <th>spotify_id</th>\n",
              "      <th>genre</th>\n",
              "      <th>lyrics</th>\n",
              "    </tr>\n",
              "  </thead>\n",
              "  <tbody>\n",
              "    <tr>\n",
              "      <th>89996</th>\n",
              "      <td>https://www.last.fm/music/gaby%2bhoffmann%2b%2...</td>\n",
              "      <td>Battle</td>\n",
              "      <td>Gaby Hoffmann &amp; Jay Duplass</td>\n",
              "      <td>['transparent']</td>\n",
              "      <td>1</td>\n",
              "      <td>5.370000</td>\n",
              "      <td>3.450000</td>\n",
              "      <td>5.330000</td>\n",
              "      <td>NaN</td>\n",
              "      <td>NaN</td>\n",
              "      <td>NaN</td>\n",
              "      <td>Error fetching lyrics</td>\n",
              "    </tr>\n",
              "    <tr>\n",
              "      <th>89997</th>\n",
              "      <td>https://www.last.fm/music/omar%2brodriguez-lop...</td>\n",
              "      <td>Hands Tied to the Roots of a Hemorrhage</td>\n",
              "      <td>Omar Rodriguez-Lopez</td>\n",
              "      <td>['transparent']</td>\n",
              "      <td>4</td>\n",
              "      <td>5.797887</td>\n",
              "      <td>4.132254</td>\n",
              "      <td>5.570563</td>\n",
              "      <td>NaN</td>\n",
              "      <td>NaN</td>\n",
              "      <td>progressive rock</td>\n",
              "      <td>Error fetching lyrics</td>\n",
              "    </tr>\n",
              "    <tr>\n",
              "      <th>89998</th>\n",
              "      <td>https://www.last.fm/music/ace%2bwhite/_/crookf...</td>\n",
              "      <td>Crookfield Zoo</td>\n",
              "      <td>Ace White</td>\n",
              "      <td>['transparent']</td>\n",
              "      <td>1</td>\n",
              "      <td>5.370000</td>\n",
              "      <td>3.450000</td>\n",
              "      <td>5.330000</td>\n",
              "      <td>NaN</td>\n",
              "      <td>NaN</td>\n",
              "      <td>NaN</td>\n",
              "      <td>Error fetching lyrics</td>\n",
              "    </tr>\n",
              "    <tr>\n",
              "      <th>89999</th>\n",
              "      <td>https://www.last.fm/music/second%2bchyld/_/tra...</td>\n",
              "      <td>Transparent (Full Version)</td>\n",
              "      <td>Second Chyld</td>\n",
              "      <td>['transparent']</td>\n",
              "      <td>1</td>\n",
              "      <td>5.370000</td>\n",
              "      <td>3.450000</td>\n",
              "      <td>5.330000</td>\n",
              "      <td>NaN</td>\n",
              "      <td>NaN</td>\n",
              "      <td>NaN</td>\n",
              "      <td>Error fetching lyrics</td>\n",
              "    </tr>\n",
              "    <tr>\n",
              "      <th>90000</th>\n",
              "      <td>https://www.last.fm/music/message%2bto%2bbears...</td>\n",
              "      <td>Unfold</td>\n",
              "      <td>Message To Bears</td>\n",
              "      <td>['translucent']</td>\n",
              "      <td>2</td>\n",
              "      <td>3.340000</td>\n",
              "      <td>1.405000</td>\n",
              "      <td>3.500000</td>\n",
              "      <td>247179b0-af1f-4c2b-b4fe-751070d1c0cc</td>\n",
              "      <td>14BYEOeRb3jzglJmKX8eM2</td>\n",
              "      <td>ambient</td>\n",
              "      <td>Error fetching lyrics</td>\n",
              "    </tr>\n",
              "  </tbody>\n",
              "</table>\n",
              "</div>\n",
              "    <div class=\"colab-df-buttons\">\n",
              "\n",
              "  <div class=\"colab-df-container\">\n",
              "    <button class=\"colab-df-convert\" onclick=\"convertToInteractive('df-e5968b0a-a8b5-4a50-b866-8efdcc6d0cc7')\"\n",
              "            title=\"Convert this dataframe to an interactive table.\"\n",
              "            style=\"display:none;\">\n",
              "\n",
              "  <svg xmlns=\"http://www.w3.org/2000/svg\" height=\"24px\" viewBox=\"0 -960 960 960\">\n",
              "    <path d=\"M120-120v-720h720v720H120Zm60-500h600v-160H180v160Zm220 220h160v-160H400v160Zm0 220h160v-160H400v160ZM180-400h160v-160H180v160Zm440 0h160v-160H620v160ZM180-180h160v-160H180v160Zm440 0h160v-160H620v160Z\"/>\n",
              "  </svg>\n",
              "    </button>\n",
              "\n",
              "  <style>\n",
              "    .colab-df-container {\n",
              "      display:flex;\n",
              "      gap: 12px;\n",
              "    }\n",
              "\n",
              "    .colab-df-convert {\n",
              "      background-color: #E8F0FE;\n",
              "      border: none;\n",
              "      border-radius: 50%;\n",
              "      cursor: pointer;\n",
              "      display: none;\n",
              "      fill: #1967D2;\n",
              "      height: 32px;\n",
              "      padding: 0 0 0 0;\n",
              "      width: 32px;\n",
              "    }\n",
              "\n",
              "    .colab-df-convert:hover {\n",
              "      background-color: #E2EBFA;\n",
              "      box-shadow: 0px 1px 2px rgba(60, 64, 67, 0.3), 0px 1px 3px 1px rgba(60, 64, 67, 0.15);\n",
              "      fill: #174EA6;\n",
              "    }\n",
              "\n",
              "    .colab-df-buttons div {\n",
              "      margin-bottom: 4px;\n",
              "    }\n",
              "\n",
              "    [theme=dark] .colab-df-convert {\n",
              "      background-color: #3B4455;\n",
              "      fill: #D2E3FC;\n",
              "    }\n",
              "\n",
              "    [theme=dark] .colab-df-convert:hover {\n",
              "      background-color: #434B5C;\n",
              "      box-shadow: 0px 1px 3px 1px rgba(0, 0, 0, 0.15);\n",
              "      filter: drop-shadow(0px 1px 2px rgba(0, 0, 0, 0.3));\n",
              "      fill: #FFFFFF;\n",
              "    }\n",
              "  </style>\n",
              "\n",
              "    <script>\n",
              "      const buttonEl =\n",
              "        document.querySelector('#df-e5968b0a-a8b5-4a50-b866-8efdcc6d0cc7 button.colab-df-convert');\n",
              "      buttonEl.style.display =\n",
              "        google.colab.kernel.accessAllowed ? 'block' : 'none';\n",
              "\n",
              "      async function convertToInteractive(key) {\n",
              "        const element = document.querySelector('#df-e5968b0a-a8b5-4a50-b866-8efdcc6d0cc7');\n",
              "        const dataTable =\n",
              "          await google.colab.kernel.invokeFunction('convertToInteractive',\n",
              "                                                    [key], {});\n",
              "        if (!dataTable) return;\n",
              "\n",
              "        const docLinkHtml = 'Like what you see? Visit the ' +\n",
              "          '<a target=\"_blank\" href=https://colab.research.google.com/notebooks/data_table.ipynb>data table notebook</a>'\n",
              "          + ' to learn more about interactive tables.';\n",
              "        element.innerHTML = '';\n",
              "        dataTable['output_type'] = 'display_data';\n",
              "        await google.colab.output.renderOutput(dataTable, element);\n",
              "        const docLink = document.createElement('div');\n",
              "        docLink.innerHTML = docLinkHtml;\n",
              "        element.appendChild(docLink);\n",
              "      }\n",
              "    </script>\n",
              "  </div>\n",
              "\n",
              "\n",
              "<div id=\"df-0a18438a-1075-4ec6-bddd-7016e1e1ed90\">\n",
              "  <button class=\"colab-df-quickchart\" onclick=\"quickchart('df-0a18438a-1075-4ec6-bddd-7016e1e1ed90')\"\n",
              "            title=\"Suggest charts\"\n",
              "            style=\"display:none;\">\n",
              "\n",
              "<svg xmlns=\"http://www.w3.org/2000/svg\" height=\"24px\"viewBox=\"0 0 24 24\"\n",
              "     width=\"24px\">\n",
              "    <g>\n",
              "        <path d=\"M19 3H5c-1.1 0-2 .9-2 2v14c0 1.1.9 2 2 2h14c1.1 0 2-.9 2-2V5c0-1.1-.9-2-2-2zM9 17H7v-7h2v7zm4 0h-2V7h2v10zm4 0h-2v-4h2v4z\"/>\n",
              "    </g>\n",
              "</svg>\n",
              "  </button>\n",
              "\n",
              "<style>\n",
              "  .colab-df-quickchart {\n",
              "      --bg-color: #E8F0FE;\n",
              "      --fill-color: #1967D2;\n",
              "      --hover-bg-color: #E2EBFA;\n",
              "      --hover-fill-color: #174EA6;\n",
              "      --disabled-fill-color: #AAA;\n",
              "      --disabled-bg-color: #DDD;\n",
              "  }\n",
              "\n",
              "  [theme=dark] .colab-df-quickchart {\n",
              "      --bg-color: #3B4455;\n",
              "      --fill-color: #D2E3FC;\n",
              "      --hover-bg-color: #434B5C;\n",
              "      --hover-fill-color: #FFFFFF;\n",
              "      --disabled-bg-color: #3B4455;\n",
              "      --disabled-fill-color: #666;\n",
              "  }\n",
              "\n",
              "  .colab-df-quickchart {\n",
              "    background-color: var(--bg-color);\n",
              "    border: none;\n",
              "    border-radius: 50%;\n",
              "    cursor: pointer;\n",
              "    display: none;\n",
              "    fill: var(--fill-color);\n",
              "    height: 32px;\n",
              "    padding: 0;\n",
              "    width: 32px;\n",
              "  }\n",
              "\n",
              "  .colab-df-quickchart:hover {\n",
              "    background-color: var(--hover-bg-color);\n",
              "    box-shadow: 0 1px 2px rgba(60, 64, 67, 0.3), 0 1px 3px 1px rgba(60, 64, 67, 0.15);\n",
              "    fill: var(--button-hover-fill-color);\n",
              "  }\n",
              "\n",
              "  .colab-df-quickchart-complete:disabled,\n",
              "  .colab-df-quickchart-complete:disabled:hover {\n",
              "    background-color: var(--disabled-bg-color);\n",
              "    fill: var(--disabled-fill-color);\n",
              "    box-shadow: none;\n",
              "  }\n",
              "\n",
              "  .colab-df-spinner {\n",
              "    border: 2px solid var(--fill-color);\n",
              "    border-color: transparent;\n",
              "    border-bottom-color: var(--fill-color);\n",
              "    animation:\n",
              "      spin 1s steps(1) infinite;\n",
              "  }\n",
              "\n",
              "  @keyframes spin {\n",
              "    0% {\n",
              "      border-color: transparent;\n",
              "      border-bottom-color: var(--fill-color);\n",
              "      border-left-color: var(--fill-color);\n",
              "    }\n",
              "    20% {\n",
              "      border-color: transparent;\n",
              "      border-left-color: var(--fill-color);\n",
              "      border-top-color: var(--fill-color);\n",
              "    }\n",
              "    30% {\n",
              "      border-color: transparent;\n",
              "      border-left-color: var(--fill-color);\n",
              "      border-top-color: var(--fill-color);\n",
              "      border-right-color: var(--fill-color);\n",
              "    }\n",
              "    40% {\n",
              "      border-color: transparent;\n",
              "      border-right-color: var(--fill-color);\n",
              "      border-top-color: var(--fill-color);\n",
              "    }\n",
              "    60% {\n",
              "      border-color: transparent;\n",
              "      border-right-color: var(--fill-color);\n",
              "    }\n",
              "    80% {\n",
              "      border-color: transparent;\n",
              "      border-right-color: var(--fill-color);\n",
              "      border-bottom-color: var(--fill-color);\n",
              "    }\n",
              "    90% {\n",
              "      border-color: transparent;\n",
              "      border-bottom-color: var(--fill-color);\n",
              "    }\n",
              "  }\n",
              "</style>\n",
              "\n",
              "  <script>\n",
              "    async function quickchart(key) {\n",
              "      const quickchartButtonEl =\n",
              "        document.querySelector('#' + key + ' button');\n",
              "      quickchartButtonEl.disabled = true;  // To prevent multiple clicks.\n",
              "      quickchartButtonEl.classList.add('colab-df-spinner');\n",
              "      try {\n",
              "        const charts = await google.colab.kernel.invokeFunction(\n",
              "            'suggestCharts', [key], {});\n",
              "      } catch (error) {\n",
              "        console.error('Error during call to suggestCharts:', error);\n",
              "      }\n",
              "      quickchartButtonEl.classList.remove('colab-df-spinner');\n",
              "      quickchartButtonEl.classList.add('colab-df-quickchart-complete');\n",
              "    }\n",
              "    (() => {\n",
              "      let quickchartButtonEl =\n",
              "        document.querySelector('#df-0a18438a-1075-4ec6-bddd-7016e1e1ed90 button');\n",
              "      quickchartButtonEl.style.display =\n",
              "        google.colab.kernel.accessAllowed ? 'block' : 'none';\n",
              "    })();\n",
              "  </script>\n",
              "</div>\n",
              "    </div>\n",
              "  </div>\n"
            ]
          },
          "metadata": {},
          "execution_count": 11
        }
      ]
    },
    {
      "cell_type": "code",
      "source": [
        "import concurrent.futures\n",
        "import requests\n",
        "import re\n",
        "import pandas as pd\n",
        "from tqdm import tqdm\n",
        "\n",
        "# Function to apply get_lyrics to each row\n",
        "def get_lyrics_for_row(row):\n",
        "    return get_lyrics(row['artist'], row['track'])\n",
        "\n",
        "# Get last half of lyrics\n",
        "muse_df_45000 = muse_df[40000:]\n",
        "\n",
        "# Prepare the list of rows for processing\n",
        "rows = [row for _, row in muse_df_45000.iterrows()]\n",
        "results = []\n",
        "\n",
        "# Parallel execution with tqdm progress bar\n",
        "with concurrent.futures.ThreadPoolExecutor() as executor:\n",
        "    # Use tqdm to create a progress bar\n",
        "    results = list(tqdm(executor.map(get_lyrics_for_row, rows), total=len(rows)))\n",
        "    print('Finished pulling all lyrics')\n",
        "\n",
        "# Assign the results back to the DataFrame\n",
        "muse_df.loc[muse_df.index[45000:], 'lyrics'] = results\n",
        "\n",
        "# Save the updated DataFrame\n",
        "muse_df.to_csv('drive/My Drive/CS 3892/muse_v3_lyrics_90000.csv', index=False)"
      ],
      "metadata": {
        "colab": {
          "base_uri": "https://localhost:8080/"
        },
        "id": "UQGynOQietaS",
        "outputId": "1d5832ce-fbaf-470e-f5eb-fc62ec5fd2e1"
      },
      "execution_count": 66,
      "outputs": [
        {
          "output_type": "stream",
          "name": "stderr",
          "text": [
            "100%|██████████| 10001/10001 [33:33<00:00,  4.97it/s]\n"
          ]
        },
        {
          "output_type": "stream",
          "name": "stdout",
          "text": [
            "finished\n"
          ]
        }
      ]
    },
    {
      "cell_type": "code",
      "source": [
        "muse_df['lyrics'].value_counts()[\"Error fetching lyrics\"]"
      ],
      "metadata": {
        "colab": {
          "base_uri": "https://localhost:8080/"
        },
        "id": "AK9GuTVwV93I",
        "outputId": "8ec198db-df99-4560-80fd-8509b3a8c7e8"
      },
      "execution_count": 67,
      "outputs": [
        {
          "output_type": "execute_result",
          "data": {
            "text/plain": [
              "41718"
            ]
          },
          "metadata": {},
          "execution_count": 67
        }
      ]
    },
    {
      "cell_type": "markdown",
      "source": [
        "Here i am messing around w pandas to make sure what we have is valid"
      ],
      "metadata": {
        "id": "XJbAcK57gYAf"
      }
    },
    {
      "cell_type": "code",
      "source": [
        "muse_df.loc[muse_df.index[89410]]"
      ],
      "metadata": {
        "colab": {
          "base_uri": "https://localhost:8080/"
        },
        "id": "1-7w9GP8hAbn",
        "outputId": "711610af-8087-4660-9549-7750087e3e5e"
      },
      "execution_count": 75,
      "outputs": [
        {
          "output_type": "execute_result",
          "data": {
            "text/plain": [
              "lastfm_url                https://www.last.fm/music/scott%2bmatthews/_/c...\n",
              "track                                                         City Headache\n",
              "artist                                                       Scott Matthews\n",
              "seeds                                                             ['quiet']\n",
              "number_of_emotion_tags                                                    5\n",
              "valence_tags                                                       6.024516\n",
              "arousal_tags                                                       3.301613\n",
              "dominance_tags                                                     6.112258\n",
              "mbid                                   c7d7b15c-8cd6-4b3e-973f-28117078a53d\n",
              "spotify_id                                           00OVRRNyPASjy9uN4pp2jQ\n",
              "genre                                                                  folk\n",
              "lyrics                    City headache subsides your dreary tone\\nSend ...\n",
              "Name: 89410, dtype: object"
            ]
          },
          "metadata": {},
          "execution_count": 75
        }
      ]
    },
    {
      "cell_type": "code",
      "source": [
        "has_spotify_and_lyrics = muse_df.dropna(subset=['spotify_id', 'lyrics'], how='any')\n",
        "has_spotify_and_lyrics = has_spotify_and_lyrics[has_spotify_and_lyrics['lyrics'] != ERROR_FETCHING_LYRICS]"
      ],
      "metadata": {
        "id": "JvFDPIoCiNO3"
      },
      "execution_count": 8,
      "outputs": []
    },
    {
      "cell_type": "code",
      "source": [
        "has_spotify_and_lyrics.info()"
      ],
      "metadata": {
        "colab": {
          "base_uri": "https://localhost:8080/"
        },
        "id": "FmaB1IasFLWt",
        "outputId": "9b831950-5ed4-47af-eed1-b7cb3f9d6595"
      },
      "execution_count": 9,
      "outputs": [
        {
          "output_type": "stream",
          "name": "stdout",
          "text": [
            "<class 'pandas.core.frame.DataFrame'>\n",
            "Int64Index: 38975 entries, 0 to 89986\n",
            "Data columns (total 12 columns):\n",
            " #   Column                  Non-Null Count  Dtype  \n",
            "---  ------                  --------------  -----  \n",
            " 0   lastfm_url              38975 non-null  object \n",
            " 1   track                   38975 non-null  object \n",
            " 2   artist                  38975 non-null  object \n",
            " 3   seeds                   38975 non-null  object \n",
            " 4   number_of_emotion_tags  38975 non-null  int64  \n",
            " 5   valence_tags            38975 non-null  float64\n",
            " 6   arousal_tags            38975 non-null  float64\n",
            " 7   dominance_tags          38975 non-null  float64\n",
            " 8   mbid                    34790 non-null  object \n",
            " 9   spotify_id              38975 non-null  object \n",
            " 10  genre                   37954 non-null  object \n",
            " 11  lyrics                  38975 non-null  object \n",
            "dtypes: float64(3), int64(1), object(8)\n",
            "memory usage: 3.9+ MB\n"
          ]
        }
      ]
    },
    {
      "cell_type": "code",
      "source": [
        "len(has_spotify_and_lyrics[has_spotify_and_lyrics['artist'] == \"Taylor Swift\"])"
      ],
      "metadata": {
        "colab": {
          "base_uri": "https://localhost:8080/"
        },
        "id": "frzmMYiUH3SL",
        "outputId": "5944803f-32d7-43e8-8685-66586a77ba8f"
      },
      "execution_count": 10,
      "outputs": [
        {
          "output_type": "execute_result",
          "data": {
            "text/plain": [
              "35"
            ]
          },
          "metadata": {},
          "execution_count": 10
        }
      ]
    }
  ]
}