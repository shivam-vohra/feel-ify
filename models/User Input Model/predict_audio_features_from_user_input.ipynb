{
  "nbformat": 4,
  "nbformat_minor": 0,
  "metadata": {
    "colab": {
      "provenance": [],
      "gpuType": "T4"
    },
    "kernelspec": {
      "name": "python3",
      "display_name": "Python 3"
    },
    "language_info": {
      "name": "python"
    },
    "accelerator": "GPU"
  },
  "cells": [
    {
      "cell_type": "markdown",
      "source": [
        "Author: Nathan Hunsberger"
      ],
      "metadata": {
        "id": "Ro4-twnvmZxp"
      }
    },
    {
      "cell_type": "code",
      "execution_count": 3,
      "metadata": {
        "id": "M4Lx9enDPRx8"
      },
      "outputs": [],
      "source": [
        "import pandas as pd\n",
        "import numpy as np\n",
        "import re\n",
        "import string\n",
        "import requests\n",
        "from tqdm import tqdm\n",
        "import matplotlib.pyplot as plt\n",
        "tqdm.pandas()"
      ]
    },
    {
      "cell_type": "code",
      "source": [
        "from google.colab import drive\n",
        "drive.mount('/content/drive')"
      ],
      "metadata": {
        "colab": {
          "base_uri": "https://localhost:8080/"
        },
        "id": "2CYUDfQuPXec",
        "outputId": "a2f0648f-e15a-44c6-86f0-64ac75a14f40"
      },
      "execution_count": 4,
      "outputs": [
        {
          "output_type": "stream",
          "name": "stdout",
          "text": [
            "Mounted at /content/drive\n"
          ]
        }
      ]
    },
    {
      "cell_type": "code",
      "source": [
        "new_best = pd.read_csv('drive/My Drive/CS 3892/Data/lyrics_with_sentiment_47k.csv')\n",
        "new_best.info()"
      ],
      "metadata": {
        "colab": {
          "base_uri": "https://localhost:8080/"
        },
        "id": "mgOBHuOEPXuN",
        "outputId": "1581dfaa-3708-4268-b06a-0152051f79ac"
      },
      "execution_count": 5,
      "outputs": [
        {
          "output_type": "stream",
          "name": "stdout",
          "text": [
            "<class 'pandas.core.frame.DataFrame'>\n",
            "RangeIndex: 47002 entries, 0 to 47001\n",
            "Data columns (total 26 columns):\n",
            " #   Column                  Non-Null Count  Dtype  \n",
            "---  ------                  --------------  -----  \n",
            " 0   Unnamed: 0              38433 non-null  float64\n",
            " 1   lastfm_url              38433 non-null  object \n",
            " 2   track                   47002 non-null  object \n",
            " 3   artist                  47002 non-null  object \n",
            " 4   seeds                   38433 non-null  object \n",
            " 5   number_of_emotion_tags  38433 non-null  float64\n",
            " 6   valence_tags            38433 non-null  float64\n",
            " 7   arousal_tags            38433 non-null  float64\n",
            " 8   dominance_tags          38433 non-null  float64\n",
            " 9   mbid                    34404 non-null  object \n",
            " 10  spotify_id              47002 non-null  object \n",
            " 11  genre                   37420 non-null  object \n",
            " 12  lyrics                  46933 non-null  object \n",
            " 13  popularity              47002 non-null  float64\n",
            " 14  danceability            47002 non-null  float64\n",
            " 15  energy                  47002 non-null  float64\n",
            " 16  loudness                47002 non-null  float64\n",
            " 17  valence                 47002 non-null  float64\n",
            " 18  tempo                   47002 non-null  float64\n",
            " 19  fear_lyric_score        47002 non-null  float64\n",
            " 20  sadness_lyric_score     47002 non-null  float64\n",
            " 21  neutral_lyric_score     47002 non-null  float64\n",
            " 22  anger_lyric_score       47002 non-null  float64\n",
            " 23  surprise_lyric_score    47002 non-null  float64\n",
            " 24  disgust_lyric_score     47002 non-null  float64\n",
            " 25  joy_lyric_score         47002 non-null  float64\n",
            "dtypes: float64(18), object(8)\n",
            "memory usage: 9.3+ MB\n"
          ]
        }
      ]
    },
    {
      "cell_type": "markdown",
      "source": [
        "# Toy around with MGPs\n",
        "Let's see about just doc2vec embedding input to audio feature output"
      ],
      "metadata": {
        "id": "isGnMPrhPonI"
      }
    },
    {
      "cell_type": "code",
      "source": [
        "from gensim.models.doc2vec import Doc2Vec, TaggedDocument\n",
        "from nltk.tokenize import word_tokenize\n",
        "import nltk\n",
        "from google.colab import drive\n",
        "\n",
        "nltk.download('punkt')"
      ],
      "metadata": {
        "colab": {
          "base_uri": "https://localhost:8080/"
        },
        "id": "dLRJBvr5Pn9f",
        "outputId": "be0fff16-58a0-4e3b-d975-403611e9296b"
      },
      "execution_count": 6,
      "outputs": [
        {
          "output_type": "stream",
          "name": "stderr",
          "text": [
            "[nltk_data] Downloading package punkt to /root/nltk_data...\n",
            "[nltk_data]   Unzipping tokenizers/punkt.zip.\n"
          ]
        },
        {
          "output_type": "execute_result",
          "data": {
            "text/plain": [
              "True"
            ]
          },
          "metadata": {},
          "execution_count": 6
        }
      ]
    },
    {
      "cell_type": "code",
      "source": [
        "model = Doc2Vec.load('./drive/MyDrive/CS 3892/Models/lyric_vec.bin')"
      ],
      "metadata": {
        "id": "FWo_0p1sQgV_"
      },
      "execution_count": 7,
      "outputs": []
    },
    {
      "cell_type": "code",
      "source": [
        "song_data = new_best"
      ],
      "metadata": {
        "id": "gN1818oBQjm4"
      },
      "execution_count": 8,
      "outputs": []
    },
    {
      "cell_type": "code",
      "source": [
        "# Game goal for this cell is to add a row with doc2vec embeddings\n",
        "song_data['embeddings'] = [model.dv[song_id] for song_id in song_data['spotify_id']]\n",
        "song_data.info()"
      ],
      "metadata": {
        "colab": {
          "base_uri": "https://localhost:8080/"
        },
        "id": "rQVjgzFgQvHj",
        "outputId": "102fbbb0-d699-4f41-f0a7-a2bd56528418"
      },
      "execution_count": 9,
      "outputs": [
        {
          "output_type": "stream",
          "name": "stdout",
          "text": [
            "<class 'pandas.core.frame.DataFrame'>\n",
            "RangeIndex: 47002 entries, 0 to 47001\n",
            "Data columns (total 27 columns):\n",
            " #   Column                  Non-Null Count  Dtype  \n",
            "---  ------                  --------------  -----  \n",
            " 0   Unnamed: 0              38433 non-null  float64\n",
            " 1   lastfm_url              38433 non-null  object \n",
            " 2   track                   47002 non-null  object \n",
            " 3   artist                  47002 non-null  object \n",
            " 4   seeds                   38433 non-null  object \n",
            " 5   number_of_emotion_tags  38433 non-null  float64\n",
            " 6   valence_tags            38433 non-null  float64\n",
            " 7   arousal_tags            38433 non-null  float64\n",
            " 8   dominance_tags          38433 non-null  float64\n",
            " 9   mbid                    34404 non-null  object \n",
            " 10  spotify_id              47002 non-null  object \n",
            " 11  genre                   37420 non-null  object \n",
            " 12  lyrics                  46933 non-null  object \n",
            " 13  popularity              47002 non-null  float64\n",
            " 14  danceability            47002 non-null  float64\n",
            " 15  energy                  47002 non-null  float64\n",
            " 16  loudness                47002 non-null  float64\n",
            " 17  valence                 47002 non-null  float64\n",
            " 18  tempo                   47002 non-null  float64\n",
            " 19  fear_lyric_score        47002 non-null  float64\n",
            " 20  sadness_lyric_score     47002 non-null  float64\n",
            " 21  neutral_lyric_score     47002 non-null  float64\n",
            " 22  anger_lyric_score       47002 non-null  float64\n",
            " 23  surprise_lyric_score    47002 non-null  float64\n",
            " 24  disgust_lyric_score     47002 non-null  float64\n",
            " 25  joy_lyric_score         47002 non-null  float64\n",
            " 26  embeddings              47002 non-null  object \n",
            "dtypes: float64(18), object(9)\n",
            "memory usage: 9.7+ MB\n"
          ]
        }
      ]
    },
    {
      "cell_type": "code",
      "source": [
        "# 70 of the songs don't have lyrics (NATE WILL FIX THIS!)\n",
        "lyrics = song_data[song_data['lyrics'].notnull()]\n",
        "lyrics.info()"
      ],
      "metadata": {
        "colab": {
          "base_uri": "https://localhost:8080/"
        },
        "id": "aR4GE8BfSdbU",
        "outputId": "817eed65-b4b6-4800-81d3-d1ea0f04a981"
      },
      "execution_count": 10,
      "outputs": [
        {
          "output_type": "stream",
          "name": "stdout",
          "text": [
            "<class 'pandas.core.frame.DataFrame'>\n",
            "Int64Index: 46933 entries, 0 to 47001\n",
            "Data columns (total 27 columns):\n",
            " #   Column                  Non-Null Count  Dtype  \n",
            "---  ------                  --------------  -----  \n",
            " 0   Unnamed: 0              38433 non-null  float64\n",
            " 1   lastfm_url              38433 non-null  object \n",
            " 2   track                   46933 non-null  object \n",
            " 3   artist                  46933 non-null  object \n",
            " 4   seeds                   38433 non-null  object \n",
            " 5   number_of_emotion_tags  38433 non-null  float64\n",
            " 6   valence_tags            38433 non-null  float64\n",
            " 7   arousal_tags            38433 non-null  float64\n",
            " 8   dominance_tags          38433 non-null  float64\n",
            " 9   mbid                    34404 non-null  object \n",
            " 10  spotify_id              46933 non-null  object \n",
            " 11  genre                   37420 non-null  object \n",
            " 12  lyrics                  46933 non-null  object \n",
            " 13  popularity              46933 non-null  float64\n",
            " 14  danceability            46933 non-null  float64\n",
            " 15  energy                  46933 non-null  float64\n",
            " 16  loudness                46933 non-null  float64\n",
            " 17  valence                 46933 non-null  float64\n",
            " 18  tempo                   46933 non-null  float64\n",
            " 19  fear_lyric_score        46933 non-null  float64\n",
            " 20  sadness_lyric_score     46933 non-null  float64\n",
            " 21  neutral_lyric_score     46933 non-null  float64\n",
            " 22  anger_lyric_score       46933 non-null  float64\n",
            " 23  surprise_lyric_score    46933 non-null  float64\n",
            " 24  disgust_lyric_score     46933 non-null  float64\n",
            " 25  joy_lyric_score         46933 non-null  float64\n",
            " 26  embeddings              46933 non-null  object \n",
            "dtypes: float64(18), object(9)\n",
            "memory usage: 10.0+ MB\n"
          ]
        }
      ]
    },
    {
      "cell_type": "code",
      "source": [
        "emotion_columns = ['fear_lyric_score', 'sadness_lyric_score', 'neutral_lyric_score', 'anger_lyric_score', 'surprise_lyric_score', 'disgust_lyric_score', 'joy_lyric_score']\n",
        "song_data['best_emotion'] = song_data[emotion_columns].idxmax(axis=1)\n",
        "song_data.info()"
      ],
      "metadata": {
        "colab": {
          "base_uri": "https://localhost:8080/"
        },
        "id": "BCsIIutWUKWQ",
        "outputId": "2bdeedf3-d77a-4945-b820-989413025c9a"
      },
      "execution_count": 11,
      "outputs": [
        {
          "output_type": "stream",
          "name": "stdout",
          "text": [
            "<class 'pandas.core.frame.DataFrame'>\n",
            "RangeIndex: 47002 entries, 0 to 47001\n",
            "Data columns (total 28 columns):\n",
            " #   Column                  Non-Null Count  Dtype  \n",
            "---  ------                  --------------  -----  \n",
            " 0   Unnamed: 0              38433 non-null  float64\n",
            " 1   lastfm_url              38433 non-null  object \n",
            " 2   track                   47002 non-null  object \n",
            " 3   artist                  47002 non-null  object \n",
            " 4   seeds                   38433 non-null  object \n",
            " 5   number_of_emotion_tags  38433 non-null  float64\n",
            " 6   valence_tags            38433 non-null  float64\n",
            " 7   arousal_tags            38433 non-null  float64\n",
            " 8   dominance_tags          38433 non-null  float64\n",
            " 9   mbid                    34404 non-null  object \n",
            " 10  spotify_id              47002 non-null  object \n",
            " 11  genre                   37420 non-null  object \n",
            " 12  lyrics                  46933 non-null  object \n",
            " 13  popularity              47002 non-null  float64\n",
            " 14  danceability            47002 non-null  float64\n",
            " 15  energy                  47002 non-null  float64\n",
            " 16  loudness                47002 non-null  float64\n",
            " 17  valence                 47002 non-null  float64\n",
            " 18  tempo                   47002 non-null  float64\n",
            " 19  fear_lyric_score        47002 non-null  float64\n",
            " 20  sadness_lyric_score     47002 non-null  float64\n",
            " 21  neutral_lyric_score     47002 non-null  float64\n",
            " 22  anger_lyric_score       47002 non-null  float64\n",
            " 23  surprise_lyric_score    47002 non-null  float64\n",
            " 24  disgust_lyric_score     47002 non-null  float64\n",
            " 25  joy_lyric_score         47002 non-null  float64\n",
            " 26  embeddings              47002 non-null  object \n",
            " 27  best_emotion            47002 non-null  object \n",
            "dtypes: float64(18), object(10)\n",
            "memory usage: 10.0+ MB\n"
          ]
        }
      ]
    },
    {
      "cell_type": "code",
      "source": [
        "# Find the top 20 genres by song count\n",
        "top_20_genres = song_data['genre'].value_counts().nlargest(20).index\n",
        "\n",
        "# Filter the DataFrame to include only songs from the top 20 genres\n",
        "filtered_data = song_data[song_data['genre'].isin(top_20_genres)]\n",
        "\n",
        "# Group the filtered data by genre and aggregate valence\n",
        "grouped_valence = song_data.groupby('best_emotion')['valence'].apply(list)\n",
        "\n",
        "# Prepare the data for plotting\n",
        "genres = grouped_valence.index.tolist()\n",
        "valence_data = grouped_valence.tolist()\n",
        "\n",
        "# Plotting\n",
        "plt.figure(figsize=(12, 10))  # Adjust the figure size as needed\n",
        "plt.boxplot(valence_data, vert=False, patch_artist=True,\n",
        "            medianprops=dict(linestyle='-', linewidth=2, color='black'),\n",
        "            boxprops=dict(facecolor='#1DB954'))\n",
        "\n",
        "# Setting the labels for each boxplot\n",
        "plt.yticks(range(1, len(genres) + 1), genres)\n",
        "\n",
        "plt.xlabel('Score')\n",
        "plt.title('Box and Whisker Plot of Valence by Emotion')\n",
        "plt.show()\n"
      ],
      "metadata": {
        "colab": {
          "base_uri": "https://localhost:8080/",
          "height": 872
        },
        "id": "ZJIekwE-SwwD",
        "outputId": "e285be83-785f-4dc1-9b54-0abd46739ba4"
      },
      "execution_count": 62,
      "outputs": [
        {
          "output_type": "display_data",
          "data": {
            "text/plain": [
              "<Figure size 1200x1000 with 1 Axes>"
            ],
            "image/png": "[encoded data removed]"
          },
          "metadata": {}
        }
      ]
    },
    {
      "cell_type": "code",
      "source": [
        "plt.scatter(song_data['tempo'], song_data['danceability'])\n",
        "plt.xlabel(\"Tempo\")\n",
        "plt.ylabel(\"Danceability\")\n",
        "plt.title(\"Tempo vs Danceability\")"
      ],
      "metadata": {
        "colab": {
          "base_uri": "https://localhost:8080/",
          "height": 489
        },
        "id": "qXfaJwntXtlG",
        "outputId": "eca52dfd-a601-48d7-e6a8-f9cbe03f3ded"
      },
      "execution_count": 74,
      "outputs": [
        {
          "output_type": "execute_result",
          "data": {
            "text/plain": [
              "Text(0.5, 1.0, 'Tempo vs Danceability')"
            ]
          },
          "metadata": {},
          "execution_count": 74
        },
        {
          "output_type": "display_data",
          "data": {
            "text/plain": [
              "<Figure size 640x480 with 1 Axes>"
            ],
            "image/png": "[encoded data removed]"
          },
          "metadata": {}
        }
      ]
    },
    {
      "cell_type": "markdown",
      "source": [
        "Hm. Not sure there's much valence difference by genre. We gonna hope the emotion labels do better"
      ],
      "metadata": {
        "id": "2GCpbvrjWZx0"
      }
    },
    {
      "cell_type": "code",
      "source": [
        "!pip install gpytorch"
      ],
      "metadata": {
        "colab": {
          "base_uri": "https://localhost:8080/"
        },
        "id": "fl7VEzZnZ09V",
        "outputId": "ba33a213-b0b1-47df-da5f-94db44e3d611"
      },
      "execution_count": 12,
      "outputs": [
        {
          "output_type": "stream",
          "name": "stdout",
          "text": [
            "Collecting gpytorch\n",
            "  Downloading gpytorch-1.11-py3-none-any.whl (266 kB)\n",
            "\u001b[2K     \u001b[90m━━━━━━━━━━━━━━━━━━━━━━━━━━━━━━━━━━━━━━━━\u001b[0m \u001b[32m266.1/266.1 kB\u001b[0m \u001b[31m2.5 MB/s\u001b[0m eta \u001b[36m0:00:00\u001b[0m\n",
            "\u001b[?25hRequirement already satisfied: scikit-learn in /usr/local/lib/python3.10/dist-packages (from gpytorch) (1.2.2)\n",
            "Collecting linear-operator>=0.5.0 (from gpytorch)\n",
            "  Downloading linear_operator-0.5.2-py3-none-any.whl (175 kB)\n",
            "\u001b[2K     \u001b[90m━━━━━━━━━━━━━━━━━━━━━━━━━━━━━━━━━━━━━━━━\u001b[0m \u001b[32m175.6/175.6 kB\u001b[0m \u001b[31m8.0 MB/s\u001b[0m eta \u001b[36m0:00:00\u001b[0m\n",
            "\u001b[?25hRequirement already satisfied: torch>=1.11 in /usr/local/lib/python3.10/dist-packages (from linear-operator>=0.5.0->gpytorch) (2.1.0+cu121)\n",
            "Requirement already satisfied: scipy in /usr/local/lib/python3.10/dist-packages (from linear-operator>=0.5.0->gpytorch) (1.11.4)\n",
            "Collecting jaxtyping>=0.2.9 (from linear-operator>=0.5.0->gpytorch)\n",
            "  Downloading jaxtyping-0.2.25-py3-none-any.whl (39 kB)\n",
            "Collecting typeguard~=2.13.3 (from linear-operator>=0.5.0->gpytorch)\n",
            "  Downloading typeguard-2.13.3-py3-none-any.whl (17 kB)\n",
            "Requirement already satisfied: numpy>=1.17.3 in /usr/local/lib/python3.10/dist-packages (from scikit-learn->gpytorch) (1.25.2)\n",
            "Requirement already satisfied: joblib>=1.1.1 in /usr/local/lib/python3.10/dist-packages (from scikit-learn->gpytorch) (1.3.2)\n",
            "Requirement already satisfied: threadpoolctl>=2.0.0 in /usr/local/lib/python3.10/dist-packages (from scikit-learn->gpytorch) (3.3.0)\n",
            "Requirement already satisfied: typing-extensions>=3.7.4.1 in /usr/local/lib/python3.10/dist-packages (from jaxtyping>=0.2.9->linear-operator>=0.5.0->gpytorch) (4.9.0)\n",
            "Requirement already satisfied: filelock in /usr/local/lib/python3.10/dist-packages (from torch>=1.11->linear-operator>=0.5.0->gpytorch) (3.13.1)\n",
            "Requirement already satisfied: sympy in /usr/local/lib/python3.10/dist-packages (from torch>=1.11->linear-operator>=0.5.0->gpytorch) (1.12)\n",
            "Requirement already satisfied: networkx in /usr/local/lib/python3.10/dist-packages (from torch>=1.11->linear-operator>=0.5.0->gpytorch) (3.2.1)\n",
            "Requirement already satisfied: jinja2 in /usr/local/lib/python3.10/dist-packages (from torch>=1.11->linear-operator>=0.5.0->gpytorch) (3.1.3)\n",
            "Requirement already satisfied: fsspec in /usr/local/lib/python3.10/dist-packages (from torch>=1.11->linear-operator>=0.5.0->gpytorch) (2023.6.0)\n",
            "Requirement already satisfied: triton==2.1.0 in /usr/local/lib/python3.10/dist-packages (from torch>=1.11->linear-operator>=0.5.0->gpytorch) (2.1.0)\n",
            "Requirement already satisfied: MarkupSafe>=2.0 in /usr/local/lib/python3.10/dist-packages (from jinja2->torch>=1.11->linear-operator>=0.5.0->gpytorch) (2.1.5)\n",
            "Requirement already satisfied: mpmath>=0.19 in /usr/local/lib/python3.10/dist-packages (from sympy->torch>=1.11->linear-operator>=0.5.0->gpytorch) (1.3.0)\n",
            "Installing collected packages: typeguard, jaxtyping, linear-operator, gpytorch\n",
            "Successfully installed gpytorch-1.11 jaxtyping-0.2.25 linear-operator-0.5.2 typeguard-2.13.3\n"
          ]
        }
      ]
    },
    {
      "cell_type": "code",
      "source": [
        "from sklearn.model_selection import train_test_split\n",
        "from sklearn.preprocessing import MinMaxScaler\n",
        "import torch\n",
        "from torch.utils.data import TensorDataset, DataLoader\n",
        "\n",
        "input_columns = ['embeddings', 'fear_lyric_score', 'sadness_lyric_score', 'neutral_lyric_score', 'anger_lyric_score', 'surprise_lyric_score', 'disgust_lyric_score', 'joy_lyric_score']\n",
        "\n",
        "\n",
        "# Extract embeddings as inputs\n",
        "X = torch.tensor(lyrics['embeddings'].tolist(), dtype=torch.float32)\n",
        "X_2 = torch.tensor(lyrics[input_columns[1:]].values, dtype=torch.float32)\n",
        "X = torch.column_stack((X, X_2))\n",
        "\n",
        "# Initialize the scaler\n",
        "scaler = MinMaxScaler()\n",
        "\n",
        "# Reshape tempo for scaling (sklearn expects 2D array)\n",
        "tempo = lyrics['tempo'].values.reshape(-1, 1)\n",
        "\n",
        "# Scale the tempo\n",
        "scaled_tempo = scaler.fit_transform(tempo)\n",
        "\n",
        "# Replace the original tempo column with the scaled tempo\n",
        "lyrics['scaled_tempo'] = scaled_tempo\n",
        "\n",
        "# Extract the targets\n",
        "y = torch.tensor(lyrics[['valence', 'scaled_tempo', 'energy', 'danceability']].values, dtype=torch.float32)\n",
        "\n",
        "# Perform the train-test split\n",
        "X_train, X_test, y_train, y_test = train_test_split(X_2, y, test_size=0.2, random_state=42)"
      ],
      "metadata": {
        "colab": {
          "base_uri": "https://localhost:8080/"
        },
        "id": "Cw19HsmiZk_p",
        "outputId": "c9958a1c-f61d-42c6-e988-3438379195ef"
      },
      "execution_count": 13,
      "outputs": [
        {
          "output_type": "stream",
          "name": "stderr",
          "text": [
            "<ipython-input-13-bfdc9690bd38>:10: UserWarning: Creating a tensor from a list of numpy.ndarrays is extremely slow. Please consider converting the list to a single numpy.ndarray with numpy.array() before converting to a tensor. (Triggered internally at ../torch/csrc/utils/tensor_new.cpp:261.)\n",
            "  X = torch.tensor(lyrics['embeddings'].tolist(), dtype=torch.float32)\n",
            "<ipython-input-13-bfdc9690bd38>:24: SettingWithCopyWarning: \n",
            "A value is trying to be set on a copy of a slice from a DataFrame.\n",
            "Try using .loc[row_indexer,col_indexer] = value instead\n",
            "\n",
            "See the caveats in the documentation: https://pandas.pydata.org/pandas-docs/stable/user_guide/indexing.html#returning-a-view-versus-a-copy\n",
            "  lyrics['scaled_tempo'] = scaled_tempo\n"
          ]
        }
      ]
    },
    {
      "cell_type": "code",
      "source": [
        "# Create TensorDatasets\n",
        "train_dataset = TensorDataset(X_train, y_train)\n",
        "test_dataset = TensorDataset(X_test, y_test)\n",
        "\n",
        "# Create DataLoaders\n",
        "train_loader = DataLoader(train_dataset, batch_size=64, shuffle=False)\n",
        "test_loader = DataLoader(test_dataset, batch_size=64, shuffle=False)"
      ],
      "metadata": {
        "id": "r4rXEYrkWfpb"
      },
      "execution_count": 14,
      "outputs": []
    },
    {
      "cell_type": "code",
      "source": [
        "import torch\n",
        "import gpytorch\n",
        "from gpytorch.models import ApproximateGP\n",
        "from gpytorch.variational import CholeskyVariationalDistribution, VariationalStrategy, IndependentMultitaskVariationalStrategy\n",
        "from gpytorch.likelihoods import MultitaskGaussianLikelihood\n",
        "from gpytorch.means import ConstantMean, MultitaskMean\n",
        "from gpytorch.kernels import ScaleKernel, RBFKernel\n",
        "from gpytorch.distributions import MultitaskMultivariateNormal\n",
        "\n",
        "device = torch.device(\"cuda\" if torch.cuda.is_available() else \"cpu\")\n",
        "\n",
        "class MultitaskSparseGPModel(ApproximateGP):\n",
        "    def __init__(self, inducing_points, num_tasks=4):\n",
        "        # Base variational distribution and strategy\n",
        "        variational_distribution = CholeskyVariationalDistribution(inducing_points.size(0), batch_shape=torch.Size([num_tasks]))\n",
        "        variational_strategy = IndependentMultitaskVariationalStrategy(\n",
        "            VariationalStrategy(\n",
        "                self, inducing_points, variational_distribution, learn_inducing_locations=True\n",
        "            ),\n",
        "            num_tasks=num_tasks\n",
        "        )\n",
        "        # variational_strategy = VariationalStrategy(\n",
        "        #     self, inducing_points, variational_distribution, learn_inducing_locations=True\n",
        "        # )\n",
        "\n",
        "        # Wrap the base strategy with IndependentMultitaskVariationalStrategy\n",
        "        # variational_strategy = IndependentMultitaskVariationalStrategy(\n",
        "        #     variational_strategy, num_tasks=num_tasks\n",
        "        # )\n",
        "\n",
        "        super(MultitaskSparseGPModel, self).__init__(variational_strategy)\n",
        "        # The mean and covariance modules should be marked as batch\n",
        "        # so we learn a different set of hyperparameters\n",
        "        self.mean_module = gpytorch.means.ConstantMean(batch_shape=torch.Size([num_tasks]))\n",
        "        self.covar_module = gpytorch.kernels.ScaleKernel(\n",
        "            gpytorch.kernels.RBFKernel(batch_shape=torch.Size([num_tasks])),\n",
        "            batch_shape=torch.Size([num_tasks])\n",
        "        )\n",
        "    def forward(self, x):\n",
        "        # The forward function should be written as if we were dealing with each output\n",
        "        # dimension in batch\n",
        "        mean_x = self.mean_module(x)\n",
        "        covar_x = self.covar_module(x)\n",
        "        return gpytorch.distributions.MultivariateNormal(mean_x, covar_x)\n",
        "\n",
        "\n",
        "X_train, y_train = X_train.to(device), y_train.to(device)\n",
        "# Select inducing points\n",
        "inducing_points = X_train[:500, :]  # Subset of data as inducing points\n",
        "\n",
        "# Initialize model and likelihood on the GPU\n",
        "model = MultitaskSparseGPModel(inducing_points=inducing_points, num_tasks=4).to(device)\n",
        "likelihood = MultitaskGaussianLikelihood(num_tasks=4).to(device)"
      ],
      "metadata": {
        "id": "7mhAVns2ZHHT"
      },
      "execution_count": 15,
      "outputs": []
    },
    {
      "cell_type": "code",
      "source": [
        "from gpytorch.mlls import VariationalELBO\n",
        "from torch.optim import Adam\n",
        "\n",
        "# Optimizer\n",
        "optimizer = Adam(model.parameters(), lr=0.01)\n",
        "\n",
        "# The ELBO objective\n",
        "mll = VariationalELBO(likelihood, model, num_data=y_train.size(0))\n",
        "\n",
        "# Training loop\n",
        "model.train()\n",
        "likelihood.train()\n",
        "\n",
        "num_epochs = 50\n",
        "losses = []  # List to store loss values\n",
        "for epoch in range(num_epochs):\n",
        "    epoch_loss = 0  # Variable to store loss for the current epoch\n",
        "    for x_batch, y_batch in train_loader:\n",
        "        # Move batch to the GPU\n",
        "        x_batch, y_batch = x_batch.to(device), y_batch.to(device)\n",
        "\n",
        "        optimizer.zero_grad()\n",
        "        output = model(x_batch)\n",
        "        loss = -mll(output, y_batch)\n",
        "        loss.backward()\n",
        "        optimizer.step()\n",
        "\n",
        "        epoch_loss += loss.item()\n",
        "\n",
        "    # Calculate the average loss for the current epoch\n",
        "    epoch_loss /= len(train_loader)\n",
        "    losses.append(epoch_loss)\n",
        "    print(f\"EPOCH: {epoch}, Loss: {epoch_loss}\")\n",
        "\n",
        "# Plotting the training loss\n",
        "plt.figure(figsize=(10, 5))\n",
        "plt.plot(losses, label='Training Loss')\n",
        "plt.xlabel('Epoch')\n",
        "plt.ylabel('Loss')\n",
        "plt.title('Training Loss Over Epochs')\n",
        "plt.legend()\n",
        "plt.show()\n"
      ],
      "metadata": {
        "colab": {
          "base_uri": "https://localhost:8080/",
          "height": 1000
        },
        "id": "lkKcpydNZKv3",
        "outputId": "1946aada-e3b9-4e91-c6f2-5fe8ede18b7a"
      },
      "execution_count": 83,
      "outputs": [
        {
          "output_type": "stream",
          "name": "stdout",
          "text": [
            "EPOCH: 0, Loss: 4.419018187352299\n",
            "EPOCH: 1, Loss: 4.393504002228303\n",
            "EPOCH: 2, Loss: 4.392543354879246\n",
            "EPOCH: 3, Loss: 4.392051354786809\n",
            "EPOCH: 4, Loss: 4.3917572916670995\n",
            "EPOCH: 5, Loss: 4.391555903108197\n",
            "EPOCH: 6, Loss: 4.391400617472764\n",
            "EPOCH: 7, Loss: 4.3912691533870145\n",
            "EPOCH: 8, Loss: 4.391150134182464\n",
            "EPOCH: 9, Loss: 4.391039161097252\n",
            "EPOCH: 10, Loss: 4.390936165083409\n",
            "EPOCH: 11, Loss: 4.390843343491042\n",
            "EPOCH: 12, Loss: 4.390763420871819\n",
            "EPOCH: 13, Loss: 4.39069789109888\n",
            "EPOCH: 14, Loss: 4.390646607140666\n",
            "EPOCH: 15, Loss: 4.390607937028095\n",
            "EPOCH: 16, Loss: 4.390579379599992\n",
            "EPOCH: 17, Loss: 4.390558086830672\n",
            "EPOCH: 18, Loss: 4.3905412561848784\n",
            "EPOCH: 19, Loss: 4.390526664317974\n",
            "EPOCH: 20, Loss: 4.390512749121177\n",
            "EPOCH: 21, Loss: 4.390498148318653\n",
            "EPOCH: 22, Loss: 4.39048299350771\n",
            "EPOCH: 23, Loss: 4.390468670521725\n",
            "EPOCH: 24, Loss: 4.390456840573624\n",
            "EPOCH: 25, Loss: 4.390447523159307\n",
            "EPOCH: 26, Loss: 4.390438932779498\n",
            "EPOCH: 27, Loss: 4.390430281475009\n",
            "EPOCH: 28, Loss: 4.390421168767614\n",
            "EPOCH: 29, Loss: 4.390411303031181\n",
            "EPOCH: 30, Loss: 4.390400592472525\n",
            "EPOCH: 31, Loss: 4.390387840530941\n",
            "EPOCH: 32, Loss: 4.390372320171921\n",
            "EPOCH: 33, Loss: 4.390353803943329\n",
            "EPOCH: 34, Loss: 4.390335319395569\n",
            "EPOCH: 35, Loss: 4.390321063020567\n",
            "EPOCH: 36, Loss: 4.390310270416676\n",
            "EPOCH: 37, Loss: 4.390302199115136\n",
            "EPOCH: 38, Loss: 4.390295330060605\n",
            "EPOCH: 39, Loss: 4.390290749337035\n",
            "EPOCH: 40, Loss: 4.390286490295774\n",
            "EPOCH: 41, Loss: 4.390284086614086\n",
            "EPOCH: 42, Loss: 4.390282446521714\n",
            "EPOCH: 43, Loss: 4.39028162850635\n",
            "EPOCH: 44, Loss: 4.390279884435858\n",
            "EPOCH: 45, Loss: 4.390279395413764\n",
            "EPOCH: 46, Loss: 4.390279350735666\n",
            "EPOCH: 47, Loss: 4.390279212639726\n",
            "EPOCH: 48, Loss: 4.390278935635516\n",
            "EPOCH: 49, Loss: 4.390278228096905\n"
          ]
        },
        {
          "output_type": "display_data",
          "data": {
            "text/plain": [
              "<Figure size 1000x500 with 1 Axes>"
            ],
            "image/png": "[encoded data removed]"
          },
          "metadata": {}
        }
      ]
    },
    {
      "cell_type": "code",
      "source": [
        "model.eval()\n",
        "likelihood.eval()\n",
        "\n",
        "with torch.no_grad(), gpytorch.settings.fast_pred_var():\n",
        "    predictions = likelihood(model(X_test.to(device)))\n",
        "    mean = predictions.mean"
      ],
      "metadata": {
        "id": "7IlPAxTBZM9a"
      },
      "execution_count": 33,
      "outputs": []
    },
    {
      "cell_type": "code",
      "source": [
        "model.load_state_dict(torch.load(\"./drive/MyDrive/CS 3892/Models/mgp-no-doc2vec.pth\", map_location=torch.device('cpu')))\n"
      ],
      "metadata": {
        "colab": {
          "base_uri": "https://localhost:8080/"
        },
        "id": "bKNh-lw5vUQn",
        "outputId": "e9927a0c-e92c-46fb-aa19-a971924f3b9f"
      },
      "execution_count": 17,
      "outputs": [
        {
          "output_type": "execute_result",
          "data": {
            "text/plain": [
              "<All keys matched successfully>"
            ]
          },
          "metadata": {},
          "execution_count": 17
        }
      ]
    },
    {
      "cell_type": "code",
      "source": [
        "# Initialize variables for MSE calculations\n",
        "test_mse_total = 0.0\n",
        "test_mse_valence = 0.0\n",
        "test_mse_tempo = 0.0\n",
        "test_mse_energy = 0.0\n",
        "test_mse_danceability = 0.0\n",
        "\n",
        "# Count the number of test samples\n",
        "num_test_samples = 0\n",
        "\n",
        "# Switch to evaluation mode\n",
        "model.eval()\n",
        "likelihood.eval()\n",
        "\n",
        "with torch.no_grad(), gpytorch.settings.fast_pred_var():\n",
        "    for x_batch, y_batch in test_loader:\n",
        "        # Move batch to the GPU\n",
        "        x_batch, y_batch = x_batch.to(device), y_batch.to(device)\n",
        "\n",
        "        # Make predictions\n",
        "        predictions = model(x_batch)\n",
        "        # Get the mean of predictions\n",
        "        predicted_means = predictions.mean\n",
        "\n",
        "        # Compute MSE for each output feature\n",
        "        test_mse_valence += torch.mean((predicted_means[:, 0] - y_batch[:, 0]) ** 2).item()\n",
        "        test_mse_tempo += torch.mean((predicted_means[:, 1] - y_batch[:, 1]) ** 2).item()\n",
        "        test_mse_energy += torch.mean((predicted_means[:, 2] - y_batch[:, 2]) ** 2).item()\n",
        "        test_mse_danceability += torch.mean((predicted_means[:, 3] - y_batch[:, 3]) ** 2).item()\n",
        "\n",
        "        # Compute overall MSE\n",
        "        test_mse_total += torch.mean((predicted_means - y_batch) ** 2).item()\n",
        "\n",
        "        # Update the total number of test samples\n",
        "        num_test_samples += y_batch.size(0)\n",
        "\n",
        "# Average MSE over the test set\n",
        "test_mse_total /= num_test_samples\n",
        "test_mse_valence /= num_test_samples\n",
        "test_mse_tempo /= num_test_samples\n",
        "test_mse_energy /= num_test_samples\n",
        "test_mse_danceability /= num_test_samples\n",
        "\n",
        "print(f\"Overall Test MSE: {test_mse_total * 100}\")\n",
        "print(f\"Test MSE for Valence: {test_mse_valence * 100}\")\n",
        "print(f\"Test MSE for Tempo: {test_mse_tempo * 100}\")\n",
        "print(f\"Test MSE for Energy: {test_mse_energy * 100}\")\n",
        "print(f\"Test MSE for Danceability: {test_mse_danceability * 100}\")\n"
      ],
      "metadata": {
        "colab": {
          "base_uri": "https://localhost:8080/"
        },
        "id": "X5VD9LyqvrBG",
        "outputId": "72140a2e-e460-4394-837d-a1b74d08879c"
      },
      "execution_count": 20,
      "outputs": [
        {
          "output_type": "stream",
          "name": "stdout",
          "text": [
            "Overall Test MSE: 0.06533135087825091\n",
            "Test MSE for Valence: 0.09961341017317668\n",
            "Test MSE for Tempo: 0.026304379230180818\n",
            "Test MSE for Energy: 0.09063974866581836\n",
            "Test MSE for Danceability: 0.0447678655430419\n"
          ]
        }
      ]
    },
    {
      "cell_type": "code",
      "source": [
        "# Switch to evaluation mode\n",
        "model.eval()\n",
        "likelihood.eval()\n",
        "\n",
        "test_mse = 0.0\n",
        "with torch.no_grad(), gpytorch.settings.fast_pred_var():\n",
        "    for x_batch, y_batch in test_loader:\n",
        "        # Move batch to the GPU\n",
        "        x_batch, y_batch = x_batch.to(device), y_batch.to(device)\n",
        "\n",
        "        # Make predictions\n",
        "        predictions = model(x_batch)\n",
        "        # Get the mean of predictions\n",
        "        predicted_means = predictions.mean\n",
        "\n",
        "        # predicted_tempo = predicted_means[:, 1]\n",
        "\n",
        "        # # Reshape for inverse scaling\n",
        "        # predicted_tempo = predicted_tempo.reshape(-1, 1)\n",
        "\n",
        "        # # Apply inverse transformation to scale back to original range\n",
        "        # original_scale_tempo = scaler.inverse_transform(predicted_tempo.cpu())\n",
        "\n",
        "        # # Replace the scaled tempo in your predictions with the original scale\n",
        "        # predicted_means[:, 1] = torch.tensor(original_scale_tempo).squeeze()\n",
        "\n",
        "        # y_tempo = y_batch[:, 1]\n",
        "\n",
        "        # # Reshape for inverse scaling\n",
        "        # y_tempo = y_tempo.reshape(-1, 1)\n",
        "\n",
        "        # # Apply inverse transformation to scale back to original range\n",
        "        # scaled_tempo = scaler.inverse_transform(y_tempo.cpu())\n",
        "\n",
        "        # # Replace the scaled tempo in your predictions with the original scale\n",
        "        # y_batch[:, 1] = torch.tensor(scaled_tempo).squeeze()\n",
        "\n",
        "\n",
        "        # Compute MSE\n",
        "        test_mse += torch.mean((predicted_means - y_batch) ** 2).item()\n",
        "\n",
        "# Average MSE over the test set\n",
        "test_mse /= len(test_loader)\n",
        "\n",
        "print(f\"Test MSE: {test_mse}\")\n"
      ],
      "metadata": {
        "colab": {
          "base_uri": "https://localhost:8080/"
        },
        "id": "bTVb0V8hdB8A",
        "outputId": "e59dc828-4e64-49af-bfdb-477cd9974c17"
      },
      "execution_count": 89,
      "outputs": [
        {
          "output_type": "stream",
          "name": "stdout",
          "text": [
            "Test MSE: 0.04171873428890494\n"
          ]
        }
      ]
    },
    {
      "cell_type": "code",
      "source": [
        "torch.save(model.state_dict(), \"./drive/MyDrive/CS 3892/Models/mgp-no-doc2vec.pth\")\n",
        "\n",
        "# model.save(\"./drive/MyDrive/CS 3892/Models/mgp.pt\")"
      ],
      "metadata": {
        "id": "m5Fh9YPiP6gz"
      },
      "execution_count": 84,
      "outputs": []
    }
  ]
}